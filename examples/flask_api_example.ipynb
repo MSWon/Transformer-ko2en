{
 "cells": [
  {
   "cell_type": "code",
   "execution_count": 3,
   "id": "08a67cb0",
   "metadata": {},
   "outputs": [],
   "source": [
    "import json\n",
    "import requests\n",
    "import urllib"
   ]
  },
  {
   "cell_type": "code",
   "execution_count": 4,
   "id": "5a43de80",
   "metadata": {},
   "outputs": [],
   "source": [
    "encText = urllib.parse.quote(\"번역기를 서빙한다는 것은 생각보다 어렵네요\")"
   ]
  },
  {
   "cell_type": "code",
   "execution_count": 7,
   "id": "1db71254",
   "metadata": {},
   "outputs": [],
   "source": [
    "url = \"http://127.0.0.1:6006/nmt?source=ko&target=en&text={}\".format(encText)"
   ]
  },
  {
   "cell_type": "code",
   "execution_count": 8,
   "id": "8f8f8bea",
   "metadata": {},
   "outputs": [],
   "source": [
    "json_response = requests.get(url)"
   ]
  },
  {
   "cell_type": "code",
   "execution_count": 9,
   "id": "c2231370",
   "metadata": {},
   "outputs": [
    {
     "name": "stdout",
     "output_type": "stream",
     "text": [
      "<Response [200]>\n",
      "{\"srcLangType\":\"ko\",\"tgtLangType\":\"en\",\"translatedText\":\"It's harder than I thought to serve a translator.\"}\n",
      "\n"
     ]
    }
   ],
   "source": [
    "print(json_response)\n",
    "print(json_response.text)"
   ]
  },
  {
   "cell_type": "code",
   "execution_count": null,
   "id": "e5a0e06b",
   "metadata": {},
   "outputs": [],
   "source": []
  }
 ],
 "metadata": {
  "kernelspec": {
   "display_name": "Python 3",
   "language": "python",
   "name": "python3"
  },
  "language_info": {
   "codemirror_mode": {
    "name": "ipython",
    "version": 3
   },
   "file_extension": ".py",
   "mimetype": "text/x-python",
   "name": "python",
   "nbconvert_exporter": "python",
   "pygments_lexer": "ipython3",
   "version": "3.6.10"
  }
 },
 "nbformat": 4,
 "nbformat_minor": 5
}
