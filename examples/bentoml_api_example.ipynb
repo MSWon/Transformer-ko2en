{
 "cells": [
  {
   "cell_type": "code",
   "execution_count": 7,
   "id": "86b6d53b",
   "metadata": {},
   "outputs": [],
   "source": [
    "import base64\n",
    "import json\n",
    "import requests\n",
    "import urllib"
   ]
  },
  {
   "cell_type": "code",
   "execution_count": 11,
   "id": "d8912064",
   "metadata": {},
   "outputs": [],
   "source": [
    "text = '\"번역기를 서빙한다는 것은 생각보다 어렵네요\"'"
   ]
  },
  {
   "cell_type": "code",
   "execution_count": 12,
   "id": "5a96e808",
   "metadata": {},
   "outputs": [],
   "source": [
    "headers = {\"content-type\": \"application/json\"}\n",
    "json_response = requests.post(f'http://127.0.0.1:54590/predict', data=text.encode('utf-8'), headers=headers)"
   ]
  },
  {
   "cell_type": "code",
   "execution_count": 13,
   "id": "a59b6b10",
   "metadata": {},
   "outputs": [
    {
     "name": "stdout",
     "output_type": "stream",
     "text": [
      "<Response [200]>\n",
      "\"It's harder than I thought to serve a translator.\"\n"
     ]
    }
   ],
   "source": [
    "print(json_response)\n",
    "print(json_response.text)"
   ]
  },
  {
   "cell_type": "code",
   "execution_count": null,
   "id": "6c00631f",
   "metadata": {},
   "outputs": [],
   "source": []
  }
 ],
 "metadata": {
  "kernelspec": {
   "display_name": "Python 3",
   "language": "python",
   "name": "python3"
  },
  "language_info": {
   "codemirror_mode": {
    "name": "ipython",
    "version": 3
   },
   "file_extension": ".py",
   "mimetype": "text/x-python",
   "name": "python",
   "nbconvert_exporter": "python",
   "pygments_lexer": "ipython3",
   "version": "3.6.7"
  }
 },
 "nbformat": 4,
 "nbformat_minor": 5
}
